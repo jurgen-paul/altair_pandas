{
 "cells": [
  {
   "cell_type": "code",
   "execution_count": 1,
   "metadata": {},
   "outputs": [],
   "source": [
    "import pandas as pd\n",
    "import numpy as np\n",
    "pd.set_option('plotting.backend', 'altair')  # Installing altair_pandas registers this.\n",
    "np.random.seed(2019)"
   ]
  },
  {
   "cell_type": "code",
   "execution_count": 2,
   "metadata": {},
   "outputs": [
    {
     "data": {
      "application/vnd.vegalite.v3+json": {
       "$schema": "https://vega.github.io/schema/vega-lite/v3.4.0.json",
       "config": {
        "mark": {
         "tooltip": null
        },
        "view": {
         "height": 300,
         "width": 400
        }
       },
       "data": {
        "name": "data-9e8a1deb68113a0fc52e584514228101"
       },
       "datasets": {
        "data-9e8a1deb68113a0fc52e584514228101": [
         {
          "index": 0,
          "value": -0.21767896374028844
         },
         {
          "index": 1,
          "value": 0.6037763908517348
         },
         {
          "index": 2,
          "value": 2.085054199890827
         },
         {
          "index": 3,
          "value": 3.416918242122044
         },
         {
          "index": 4,
          "value": 3.055052870125853
         },
         {
          "index": 5,
          "value": 3.740661701390467
         },
         {
          "index": 6,
          "value": 4.314423127686804
         },
         {
          "index": 7,
          "value": 4.602150794140218
         },
         {
          "index": 8,
          "value": 4.366516533828004
         },
         {
          "index": 9,
          "value": 5.320006778058893
         },
         {
          "index": 10,
          "value": 3.630381476045523
         },
         {
          "index": 11,
          "value": 3.28543876917823
         },
         {
          "index": 12,
          "value": 3.3023436662451164
         },
         {
          "index": 13,
          "value": 2.787360144208991
         },
         {
          "index": 14,
          "value": 3.0318694358800773
         },
         {
          "index": 15,
          "value": 2.842556828366233
         },
         {
          "index": 16,
          "value": 5.5147292461710125
         },
         {
          "index": 17,
          "value": 5.9795317350387105
         },
         {
          "index": 18,
          "value": 6.825462179401228
         },
         {
          "index": 19,
          "value": 6.321920597261879
         },
         {
          "index": 20,
          "value": 5.358585067415754
         },
         {
          "index": 21,
          "value": 5.423553696912329
         },
         {
          "index": 22,
          "value": 2.2185134640725876
         },
         {
          "index": 23,
          "value": 3.2734828904873123
         },
         {
          "index": 24,
          "value": 4.080759584335997
         },
         {
          "index": 25,
          "value": 4.554900138051219
         },
         {
          "index": 26,
          "value": 4.96582838485692
         },
         {
          "index": 27,
          "value": 5.452517653637267
         },
         {
          "index": 28,
          "value": 4.916987945011077
         },
         {
          "index": 29,
          "value": 4.078080001723468
         },
         {
          "index": 30,
          "value": 3.2657051816620273
         },
         {
          "index": 31,
          "value": 2.814912238889269
         },
         {
          "index": 32,
          "value": 3.8857135946357904
         },
         {
          "index": 33,
          "value": 4.103134744478959
         },
         {
          "index": 34,
          "value": 2.927276150201358
         },
         {
          "index": 35,
          "value": 2.001159361112061
         },
         {
          "index": 36,
          "value": 1.0072116999696281
         },
         {
          "index": 37,
          "value": 1.5940180092029606
         },
         {
          "index": 38,
          "value": 2.6578312521356438
         },
         {
          "index": 39,
          "value": 2.8955721127279253
         },
         {
          "index": 40,
          "value": 2.1205155497447388
         },
         {
          "index": 41,
          "value": 1.1414116033058854
         },
         {
          "index": 42,
          "value": -0.4079513325181001
         },
         {
          "index": 43,
          "value": -1.6147795773840339
         },
         {
          "index": 44,
          "value": -1.1697713448489386
         },
         {
          "index": 45,
          "value": -1.3428575525620638
         },
         {
          "index": 46,
          "value": 0.1460896364212152
         },
         {
          "index": 47,
          "value": -0.6464308567918783
         },
         {
          "index": 48,
          "value": 1.192566242489495
         },
         {
          "index": 49,
          "value": 0.7532041177694748
         },
         {
          "index": 50,
          "value": 1.9132072860119222
         },
         {
          "index": 51,
          "value": 1.336113833157092
         },
         {
          "index": 52,
          "value": 0.3050694347651961
         },
         {
          "index": 53,
          "value": -0.533816010813897
         },
         {
          "index": 54,
          "value": -0.2168819482849525
         },
         {
          "index": 55,
          "value": 0.1363720328685194
         },
         {
          "index": 56,
          "value": 1.6520950769613019
         },
         {
          "index": 57,
          "value": 1.2742448517561686
         },
         {
          "index": 58,
          "value": 0.18156530486525924
         },
         {
          "index": 59,
          "value": -0.46677721579248066
         },
         {
          "index": 60,
          "value": 1.0132082788293086
         },
         {
          "index": 61,
          "value": -1.0920924146035031
         },
         {
          "index": 62,
          "value": -0.8633975255009756
         },
         {
          "index": 63,
          "value": -0.5027686894903969
         },
         {
          "index": 64,
          "value": -1.942655217014441
         },
         {
          "index": 65,
          "value": -2.605360987794434
         },
         {
          "index": 66,
          "value": -3.266998206267096
         },
         {
          "index": 67,
          "value": -3.862995186311024
         },
         {
          "index": 68,
          "value": -3.8108001324488665
         },
         {
          "index": 69,
          "value": -5.364126962862649
         },
         {
          "index": 70,
          "value": -3.7098692077008155
         },
         {
          "index": 71,
          "value": -3.053010525590692
         },
         {
          "index": 72,
          "value": -3.5915764683062266
         },
         {
          "index": 73,
          "value": -4.588424247599213
         },
         {
          "index": 74,
          "value": -6.320551204516049
         },
         {
          "index": 75,
          "value": -7.980724585411982
         },
         {
          "index": 76,
          "value": -7.745641800853409
         },
         {
          "index": 77,
          "value": -7.630487313675264
         },
         {
          "index": 78,
          "value": -10.189871835156909
         },
         {
          "index": 79,
          "value": -10.423192290588963
         },
         {
          "index": 80,
          "value": -9.830024872718923
         },
         {
          "index": 81,
          "value": -8.358314369790154
         },
         {
          "index": 82,
          "value": -8.592553327694517
         },
         {
          "index": 83,
          "value": -8.677012362204078
         },
         {
          "index": 84,
          "value": -8.413664727803932
         },
         {
          "index": 85,
          "value": -8.930585529963219
         },
         {
          "index": 86,
          "value": -7.848083787670971
         },
         {
          "index": 87,
          "value": -8.536997847529248
         },
         {
          "index": 88,
          "value": -9.594262979225823
         },
         {
          "index": 89,
          "value": -9.116383234141601
         },
         {
          "index": 90,
          "value": -9.808759295922272
         },
         {
          "index": 91,
          "value": -10.586333145642776
         },
         {
          "index": 92,
          "value": -10.37478433832342
         },
         {
          "index": 93,
          "value": -10.650711703959578
         },
         {
          "index": 94,
          "value": -10.856956853030994
         },
         {
          "index": 95,
          "value": -11.386445026312877
         },
         {
          "index": 96,
          "value": -11.758757263881288
         },
         {
          "index": 97,
          "value": -13.599561306524677
         },
         {
          "index": 98,
          "value": -13.309853682360751
         },
         {
          "index": 99,
          "value": -14.662511622769625
         }
        ]
       },
       "encoding": {
        "tooltip": [
         {
          "field": "index",
          "type": "quantitative"
         },
         {
          "field": "value",
          "type": "quantitative"
         }
        ],
        "x": {
         "field": "index",
         "title": null,
         "type": "quantitative"
        },
        "y": {
         "field": "value",
         "title": null,
         "type": "quantitative"
        }
       },
       "mark": "line",
       "selection": {
        "selector001": {
         "bind": "scales",
         "encodings": [
          "x",
          "y"
         ],
         "type": "interval"
        }
       }
      },
      "image/png": "[encoded data removed]",
      "text/plain": [
       "<VegaLite 3 object>\n",
       "\n",
       "If you see this message, it means the renderer has not been properly enabled\n",
       "for the frontend that you are using. For more information, see\n",
       "https://altair-viz.github.io/user_guide/troubleshooting.html\n"
      ]
     },
     "execution_count": 2,
     "metadata": {},
     "output_type": "execute_result"
    }
   ],
   "source": [
    "data = pd.Series(np.random.randn(100).cumsum())\n",
    "data.plot()"
   ]
  },
  {
   "cell_type": "code",
   "execution_count": 3,
   "metadata": {},
   "outputs": [
    {
     "data": {
      "application/vnd.vegalite.v3+json": {
       "$schema": "https://vega.github.io/schema/vega-lite/v3.4.0.json",
       "config": {
        "mark": {
         "tooltip": null
        },
        "view": {
         "height": 300,
         "width": 400
        }
       },
       "data": {
        "name": "data-9e8a1deb68113a0fc52e584514228101"
       },
       "datasets": {
        "data-9e8a1deb68113a0fc52e584514228101": [
         {
          "index": 0,
          "value": -0.21767896374028844
         },
         {
          "index": 1,
          "value": 0.6037763908517348
         },
         {
          "index": 2,
          "value": 2.085054199890827
         },
         {
          "index": 3,
          "value": 3.416918242122044
         },
         {
          "index": 4,
          "value": 3.055052870125853
         },
         {
          "index": 5,
          "value": 3.740661701390467
         },
         {
          "index": 6,
          "value": 4.314423127686804
         },
         {
          "index": 7,
          "value": 4.602150794140218
         },
         {
          "index": 8,
          "value": 4.366516533828004
         },
         {
          "index": 9,
          "value": 5.320006778058893
         },
         {
          "index": 10,
          "value": 3.630381476045523
         },
         {
          "index": 11,
          "value": 3.28543876917823
         },
         {
          "index": 12,
          "value": 3.3023436662451164
         },
         {
          "index": 13,
          "value": 2.787360144208991
         },
         {
          "index": 14,
          "value": 3.0318694358800773
         },
         {
          "index": 15,
          "value": 2.842556828366233
         },
         {
          "index": 16,
          "value": 5.5147292461710125
         },
         {
          "index": 17,
          "value": 5.9795317350387105
         },
         {
          "index": 18,
          "value": 6.825462179401228
         },
         {
          "index": 19,
          "value": 6.321920597261879
         },
         {
          "index": 20,
          "value": 5.358585067415754
         },
         {
          "index": 21,
          "value": 5.423553696912329
         },
         {
          "index": 22,
          "value": 2.2185134640725876
         },
         {
          "index": 23,
          "value": 3.2734828904873123
         },
         {
          "index": 24,
          "value": 4.080759584335997
         },
         {
          "index": 25,
          "value": 4.554900138051219
         },
         {
          "index": 26,
          "value": 4.96582838485692
         },
         {
          "index": 27,
          "value": 5.452517653637267
         },
         {
          "index": 28,
          "value": 4.916987945011077
         },
         {
          "index": 29,
          "value": 4.078080001723468
         },
         {
          "index": 30,
          "value": 3.2657051816620273
         },
         {
          "index": 31,
          "value": 2.814912238889269
         },
         {
          "index": 32,
          "value": 3.8857135946357904
         },
         {
          "index": 33,
          "value": 4.103134744478959
         },
         {
          "index": 34,
          "value": 2.927276150201358
         },
         {
          "index": 35,
          "value": 2.001159361112061
         },
         {
          "index": 36,
          "value": 1.0072116999696281
         },
         {
          "index": 37,
          "value": 1.5940180092029606
         },
         {
          "index": 38,
          "value": 2.6578312521356438
         },
         {
          "index": 39,
          "value": 2.8955721127279253
         },
         {
          "index": 40,
          "value": 2.1205155497447388
         },
         {
          "index": 41,
          "value": 1.1414116033058854
         },
         {
          "index": 42,
          "value": -0.4079513325181001
         },
         {
          "index": 43,
          "value": -1.6147795773840339
         },
         {
          "index": 44,
          "value": -1.1697713448489386
         },
         {
          "index": 45,
          "value": -1.3428575525620638
         },
         {
          "index": 46,
          "value": 0.1460896364212152
         },
         {
          "index": 47,
          "value": -0.6464308567918783
         },
         {
          "index": 48,
          "value": 1.192566242489495
         },
         {
          "index": 49,
          "value": 0.7532041177694748
         },
         {
          "index": 50,
          "value": 1.9132072860119222
         },
         {
          "index": 51,
          "value": 1.336113833157092
         },
         {
          "index": 52,
          "value": 0.3050694347651961
         },
         {
          "index": 53,
          "value": -0.533816010813897
         },
         {
          "index": 54,
          "value": -0.2168819482849525
         },
         {
          "index": 55,
          "value": 0.1363720328685194
         },
         {
          "index": 56,
          "value": 1.6520950769613019
         },
         {
          "index": 57,
          "value": 1.2742448517561686
         },
         {
          "index": 58,
          "value": 0.18156530486525924
         },
         {
          "index": 59,
          "value": -0.46677721579248066
         },
         {
          "index": 60,
          "value": 1.0132082788293086
         },
         {
          "index": 61,
          "value": -1.0920924146035031
         },
         {
          "index": 62,
          "value": -0.8633975255009756
         },
         {
          "index": 63,
          "value": -0.5027686894903969
         },
         {
          "index": 64,
          "value": -1.942655217014441
         },
         {
          "index": 65,
          "value": -2.605360987794434
         },
         {
          "index": 66,
          "value": -3.266998206267096
         },
         {
          "index": 67,
          "value": -3.862995186311024
         },
         {
          "index": 68,
          "value": -3.8108001324488665
         },
         {
          "index": 69,
          "value": -5.364126962862649
         },
         {
          "index": 70,
          "value": -3.7098692077008155
         },
         {
          "index": 71,
          "value": -3.053010525590692
         },
         {
          "index": 72,
          "value": -3.5915764683062266
         },
         {
          "index": 73,
          "value": -4.588424247599213
         },
         {
          "index": 74,
          "value": -6.320551204516049
         },
         {
          "index": 75,
          "value": -7.980724585411982
         },
         {
          "index": 76,
          "value": -7.745641800853409
         },
         {
          "index": 77,
          "value": -7.630487313675264
         },
         {
          "index": 78,
          "value": -10.189871835156909
         },
         {
          "index": 79,
          "value": -10.423192290588963
         },
         {
          "index": 80,
          "value": -9.830024872718923
         },
         {
          "index": 81,
          "value": -8.358314369790154
         },
         {
          "index": 82,
          "value": -8.592553327694517
         },
         {
          "index": 83,
          "value": -8.677012362204078
         },
         {
          "index": 84,
          "value": -8.413664727803932
         },
         {
          "index": 85,
          "value": -8.930585529963219
         },
         {
          "index": 86,
          "value": -7.848083787670971
         },
         {
          "index": 87,
          "value": -8.536997847529248
         },
         {
          "index": 88,
          "value": -9.594262979225823
         },
         {
          "index": 89,
          "value": -9.116383234141601
         },
         {
          "index": 90,
          "value": -9.808759295922272
         },
         {
          "index": 91,
          "value": -10.586333145642776
         },
         {
          "index": 92,
          "value": -10.37478433832342
         },
         {
          "index": 93,
          "value": -10.650711703959578
         },
         {
          "index": 94,
          "value": -10.856956853030994
         },
         {
          "index": 95,
          "value": -11.386445026312877
         },
         {
          "index": 96,
          "value": -11.758757263881288
         },
         {
          "index": 97,
          "value": -13.599561306524677
         },
         {
          "index": 98,
          "value": -13.309853682360751
         },
         {
          "index": 99,
          "value": -14.662511622769625
         }
        ]
       },
       "encoding": {
        "tooltip": [
         {
          "field": "index",
          "type": "quantitative"
         },
         {
          "field": "value",
          "type": "quantitative"
         }
        ],
        "x": {
         "field": "index",
         "title": null,
         "type": "quantitative"
        },
        "y": {
         "field": "value",
         "title": null,
         "type": "quantitative"
        }
       },
       "mark": "bar",
       "selection": {
        "selector002": {
         "bind": "scales",
         "encodings": [
          "x",
          "y"
         ],
         "type": "interval"
        }
       }
      },
      "image/png": "[encoded data removed]",
      "text/plain": [
       "<VegaLite 3 object>\n",
       "\n",
       "If you see this message, it means the renderer has not been properly enabled\n",
       "for the frontend that you are using. For more information, see\n",
       "https://altair-viz.github.io/user_guide/troubleshooting.html\n"
      ]
     },
     "execution_count": 3,
     "metadata": {},
     "output_type": "execute_result"
    }
   ],
   "source": [
    "data.plot(kind='bar')"
   ]
  },
  {
   "cell_type": "code",
   "execution_count": 4,
   "metadata": {},
   "outputs": [
    {
     "data": {
      "application/vnd.vegalite.v3+json": {
       "$schema": "https://vega.github.io/schema/vega-lite/v3.4.0.json",
       "config": {
        "mark": {
         "tooltip": null
        },
        "view": {
         "height": 300,
         "width": 400
        }
       },
       "data": {
        "name": "data-9e8a1deb68113a0fc52e584514228101"
       },
       "datasets": {
        "data-9e8a1deb68113a0fc52e584514228101": [
         {
          "index": 0,
          "value": -0.21767896374028844
         },
         {
          "index": 1,
          "value": 0.6037763908517348
         },
         {
          "index": 2,
          "value": 2.085054199890827
         },
         {
          "index": 3,
          "value": 3.416918242122044
         },
         {
          "index": 4,
          "value": 3.055052870125853
         },
         {
          "index": 5,
          "value": 3.740661701390467
         },
         {
          "index": 6,
          "value": 4.314423127686804
         },
         {
          "index": 7,
          "value": 4.602150794140218
         },
         {
          "index": 8,
          "value": 4.366516533828004
         },
         {
          "index": 9,
          "value": 5.320006778058893
         },
         {
          "index": 10,
          "value": 3.630381476045523
         },
         {
          "index": 11,
          "value": 3.28543876917823
         },
         {
          "index": 12,
          "value": 3.3023436662451164
         },
         {
          "index": 13,
          "value": 2.787360144208991
         },
         {
          "index": 14,
          "value": 3.0318694358800773
         },
         {
          "index": 15,
          "value": 2.842556828366233
         },
         {
          "index": 16,
          "value": 5.5147292461710125
         },
         {
          "index": 17,
          "value": 5.9795317350387105
         },
         {
          "index": 18,
          "value": 6.825462179401228
         },
         {
          "index": 19,
          "value": 6.321920597261879
         },
         {
          "index": 20,
          "value": 5.358585067415754
         },
         {
          "index": 21,
          "value": 5.423553696912329
         },
         {
          "index": 22,
          "value": 2.2185134640725876
         },
         {
          "index": 23,
          "value": 3.2734828904873123
         },
         {
          "index": 24,
          "value": 4.080759584335997
         },
         {
          "index": 25,
          "value": 4.554900138051219
         },
         {
          "index": 26,
          "value": 4.96582838485692
         },
         {
          "index": 27,
          "value": 5.452517653637267
         },
         {
          "index": 28,
          "value": 4.916987945011077
         },
         {
          "index": 29,
          "value": 4.078080001723468
         },
         {
          "index": 30,
          "value": 3.2657051816620273
         },
         {
          "index": 31,
          "value": 2.814912238889269
         },
         {
          "index": 32,
          "value": 3.8857135946357904
         },
         {
          "index": 33,
          "value": 4.103134744478959
         },
         {
          "index": 34,
          "value": 2.927276150201358
         },
         {
          "index": 35,
          "value": 2.001159361112061
         },
         {
          "index": 36,
          "value": 1.0072116999696281
         },
         {
          "index": 37,
          "value": 1.5940180092029606
         },
         {
          "index": 38,
          "value": 2.6578312521356438
         },
         {
          "index": 39,
          "value": 2.8955721127279253
         },
         {
          "index": 40,
          "value": 2.1205155497447388
         },
         {
          "index": 41,
          "value": 1.1414116033058854
         },
         {
          "index": 42,
          "value": -0.4079513325181001
         },
         {
          "index": 43,
          "value": -1.6147795773840339
         },
         {
          "index": 44,
          "value": -1.1697713448489386
         },
         {
          "index": 45,
          "value": -1.3428575525620638
         },
         {
          "index": 46,
          "value": 0.1460896364212152
         },
         {
          "index": 47,
          "value": -0.6464308567918783
         },
         {
          "index": 48,
          "value": 1.192566242489495
         },
         {
          "index": 49,
          "value": 0.7532041177694748
         },
         {
          "index": 50,
          "value": 1.9132072860119222
         },
         {
          "index": 51,
          "value": 1.336113833157092
         },
         {
          "index": 52,
          "value": 0.3050694347651961
         },
         {
          "index": 53,
          "value": -0.533816010813897
         },
         {
          "index": 54,
          "value": -0.2168819482849525
         },
         {
          "index": 55,
          "value": 0.1363720328685194
         },
         {
          "index": 56,
          "value": 1.6520950769613019
         },
         {
          "index": 57,
          "value": 1.2742448517561686
         },
         {
          "index": 58,
          "value": 0.18156530486525924
         },
         {
          "index": 59,
          "value": -0.46677721579248066
         },
         {
          "index": 60,
          "value": 1.0132082788293086
         },
         {
          "index": 61,
          "value": -1.0920924146035031
         },
         {
          "index": 62,
          "value": -0.8633975255009756
         },
         {
          "index": 63,
          "value": -0.5027686894903969
         },
         {
          "index": 64,
          "value": -1.942655217014441
         },
         {
          "index": 65,
          "value": -2.605360987794434
         },
         {
          "index": 66,
          "value": -3.266998206267096
         },
         {
          "index": 67,
          "value": -3.862995186311024
         },
         {
          "index": 68,
          "value": -3.8108001324488665
         },
         {
          "index": 69,
          "value": -5.364126962862649
         },
         {
          "index": 70,
          "value": -3.7098692077008155
         },
         {
          "index": 71,
          "value": -3.053010525590692
         },
         {
          "index": 72,
          "value": -3.5915764683062266
         },
         {
          "index": 73,
          "value": -4.588424247599213
         },
         {
          "index": 74,
          "value": -6.320551204516049
         },
         {
          "index": 75,
          "value": -7.980724585411982
         },
         {
          "index": 76,
          "value": -7.745641800853409
         },
         {
          "index": 77,
          "value": -7.630487313675264
         },
         {
          "index": 78,
          "value": -10.189871835156909
         },
         {
          "index": 79,
          "value": -10.423192290588963
         },
         {
          "index": 80,
          "value": -9.830024872718923
         },
         {
          "index": 81,
          "value": -8.358314369790154
         },
         {
          "index": 82,
          "value": -8.592553327694517
         },
         {
          "index": 83,
          "value": -8.677012362204078
         },
         {
          "index": 84,
          "value": -8.413664727803932
         },
         {
          "index": 85,
          "value": -8.930585529963219
         },
         {
          "index": 86,
          "value": -7.848083787670971
         },
         {
          "index": 87,
          "value": -8.536997847529248
         },
         {
          "index": 88,
          "value": -9.594262979225823
         },
         {
          "index": 89,
          "value": -9.116383234141601
         },
         {
          "index": 90,
          "value": -9.808759295922272
         },
         {
          "index": 91,
          "value": -10.586333145642776
         },
         {
          "index": 92,
          "value": -10.37478433832342
         },
         {
          "index": 93,
          "value": -10.650711703959578
         },
         {
          "index": 94,
          "value": -10.856956853030994
         },
         {
          "index": 95,
          "value": -11.386445026312877
         },
         {
          "index": 96,
          "value": -11.758757263881288
         },
         {
          "index": 97,
          "value": -13.599561306524677
         },
         {
          "index": 98,
          "value": -13.309853682360751
         },
         {
          "index": 99,
          "value": -14.662511622769625
         }
        ]
       },
       "encoding": {
        "tooltip": [
         {
          "field": "index",
          "type": "quantitative"
         },
         {
          "field": "value",
          "type": "quantitative"
         }
        ],
        "x": {
         "field": "index",
         "title": null,
         "type": "quantitative"
        },
        "y": {
         "field": "value",
         "title": null,
         "type": "quantitative"
        }
       },
       "mark": "area",
       "selection": {
        "selector003": {
         "bind": "scales",
         "encodings": [
          "x",
          "y"
         ],
         "type": "interval"
        }
       }
      },
      "image/png": "[encoded data removed]",
      "text/plain": [
       "<VegaLite 3 object>\n",
       "\n",
       "If you see this message, it means the renderer has not been properly enabled\n",
       "for the frontend that you are using. For more information, see\n",
       "https://altair-viz.github.io/user_guide/troubleshooting.html\n"
      ]
     },
     "execution_count": 4,
     "metadata": {},
     "output_type": "execute_result"
    }
   ],
   "source": [
    "data.plot(kind='area')"
   ]
  },
  {
   "cell_type": "markdown",
   "metadata": {},
   "source": [
    "# DataFrame"
   ]
  },
  {
   "cell_type": "code",
   "execution_count": 5,
   "metadata": {},
   "outputs": [],
   "source": [
    "df = pd.DataFrame(np.random.randn(100,3).cumsum(0), columns=['x','y','z'])"
   ]
  },
  {
   "cell_type": "code",
   "execution_count": 6,
   "metadata": {},
   "outputs": [
    {
     "data": {
      "application/vnd.vegalite.v3+json": {
       "$schema": "https://vega.github.io/schema/vega-lite/v3.4.0.json",
       "config": {
        "mark": {
         "tooltip": null
        },
        "view": {
         "height": 300,
         "width": 400
        }
       },
       "data": {
        "name": "data-13099b60e16e19b1dfc8ec8ad5449064"
       },
       "datasets": {
        "data-13099b60e16e19b1dfc8ec8ad5449064": [
         {
          "index": 0,
          "x": 0.10174192426040822,
          "y": 0.31973437326889537,
          "z": -0.24087925640418273
         },
         {
          "index": 1,
          "x": 0.46377109678002576,
          "y": 0.39284953965450403,
          "z": -0.8470307992657274
         },
         {
          "index": 2,
          "x": 0.5427920704495576,
          "y": 2.0215438525479135,
          "z": -0.5041337657185385
         },
         {
          "index": 3,
          "x": 0.691790393493323,
          "y": 1.4080784951558476,
          "z": -1.5530227427069885
         },
         {
          "index": 4,
          "x": 0.5438454859014044,
          "y": 2.282289197786082,
          "z": -2.47969679801141
         },
         {
          "index": 5,
          "x": 0.8412672776574759,
          "y": 0.9336365164416933,
          "z": 0.11586844310132616
         },
         {
          "index": 6,
          "x": 0.4440696728540403,
          "y": 0.5846040675015804,
          "z": 1.198605562039081
         },
         {
          "index": 7,
          "x": 0.37689265681375916,
          "y": 1.8445078498152159,
          "z": 2.1971366928099076
         },
         {
          "index": 8,
          "x": 1.7088994296520779,
          "y": -0.2965165131611587,
          "z": 2.4854050834183345
         },
         {
          "index": 9,
          "x": 0.7594255157953386,
          "y": -0.7840081732519648,
          "z": 2.530393125472639
         },
         {
          "index": 10,
          "x": -1.4872055561564141,
          "y": 0.3599911702784182,
          "z": 4.835100132883255
         },
         {
          "index": 11,
          "x": 0.2150577809319032,
          "y": 0.11582875972667908,
          "z": 5.208579582224949
         },
         {
          "index": 12,
          "x": 1.5744840005341858,
          "y": -0.372546574433127,
          "z": 5.51545982910521
         },
         {
          "index": 13,
          "x": 0.3679772618606698,
          "y": -2.878238152804081,
          "z": 4.186569493581132
         },
         {
          "index": 14,
          "x": -0.11537830312732728,
          "y": -1.9506804820892456,
          "z": 3.339122687346829
         },
         {
          "index": 15,
          "x": 0.268552495967064,
          "y": -2.3876264052815257,
          "z": 3.7811188858038514
         },
         {
          "index": 16,
          "x": 2.226832215019299,
          "y": -2.126093605804431,
          "z": 2.0328388792460435
         },
         {
          "index": 17,
          "x": 3.8506435691911456,
          "y": -1.3191840891125446,
          "z": 0.6586872458863735
         },
         {
          "index": 18,
          "x": 3.176396308806726,
          "y": 0.5053296955453654,
          "z": 0.584394876179876
         },
         {
          "index": 19,
          "x": 3.6109830595525274,
          "y": 0.24878768452561512,
          "z": 2.154914558728954
         },
         {
          "index": 20,
          "x": 4.268315558606928,
          "y": 0.28702041547905166,
          "z": 2.1925933269587845
         },
         {
          "index": 21,
          "x": 5.051792703926308,
          "y": 0.8084957713851727,
          "z": 2.726933416131036
         },
         {
          "index": 22,
          "x": 3.960653857760024,
          "y": -1.0602674336345799,
          "z": 1.6993094433335816
         },
         {
          "index": 23,
          "x": 4.0584745148057975,
          "y": -1.6941204224418502,
          "z": 1.6515505886605286
         },
         {
          "index": 24,
          "x": 3.786081117290783,
          "y": -0.46754429414988685,
          "z": 2.4685878205488523
         },
         {
          "index": 25,
          "x": 2.741724342276396,
          "y": 0.1523948677505672,
          "z": 4.58321713054731
         },
         {
          "index": 26,
          "x": 2.8013085128398605,
          "y": 0.7990974820535526,
          "z": 4.892019651329498
         },
         {
          "index": 27,
          "x": 0.2069234183914137,
          "y": 1.24699471682072,
          "z": 4.654423098801681
         },
         {
          "index": 28,
          "x": 2.1655806809093194,
          "y": 0.4687251097775069,
          "z": 5.912860340821911
         },
         {
          "index": 29,
          "x": 1.9829943803653802,
          "y": -0.05890571295352498,
          "z": 5.893990033926627
         },
         {
          "index": 30,
          "x": 4.248989972799317,
          "y": -0.254524993710882,
          "z": 4.507886736419069
         },
         {
          "index": 31,
          "x": 5.934371725729361,
          "y": -0.8869058278485157,
          "z": 4.571610341559309
         },
         {
          "index": 32,
          "x": 5.4140845862818425,
          "y": -0.5044805179694067,
          "z": 5.62977884584074
         },
         {
          "index": 33,
          "x": 5.4501816431594925,
          "y": 0.3429631069122123,
          "z": 6.02974958340587
         },
         {
          "index": 34,
          "x": 5.399664441419694,
          "y": 1.703967924986447,
          "z": 5.61243990526056
         },
         {
          "index": 35,
          "x": 5.172968470830933,
          "y": 2.397689255319875,
          "z": 3.692298753317647
         },
         {
          "index": 36,
          "x": 5.750154694482398,
          "y": 3.1886569430215896,
          "z": 4.344349548933432
         },
         {
          "index": 37,
          "x": 5.092582320162698,
          "y": 3.1067826056283856,
          "z": 4.917785581801794
         },
         {
          "index": 38,
          "x": 5.254272059482469,
          "y": 4.141413004966657,
          "z": 5.620976316751887
         },
         {
          "index": 39,
          "x": 6.357545531371504,
          "y": 4.097757647686296,
          "z": 6.18646564919352
         },
         {
          "index": 40,
          "x": 5.57987671819632,
          "y": 3.514169061914425,
          "z": 5.664795621912372
         },
         {
          "index": 41,
          "x": 6.868678223733693,
          "y": 4.438871989278683,
          "z": 4.971151710223277
         },
         {
          "index": 42,
          "x": 5.978478595171977,
          "y": 4.256481510544367,
          "z": 4.290192930843104
         },
         {
          "index": 43,
          "x": 7.27385413218568,
          "y": 4.4418126528036,
          "z": 4.195896001192871
         },
         {
          "index": 44,
          "x": 7.60085135587176,
          "y": 4.162472682994865,
          "z": 2.032617349280593
         },
         {
          "index": 45,
          "x": 7.948721752538825,
          "y": 2.81277416046235,
          "z": 2.694012623718799
         },
         {
          "index": 46,
          "x": 8.364290165030434,
          "y": 4.0841944872584115,
          "z": 2.759878490550716
         },
         {
          "index": 47,
          "x": 9.359794630240813,
          "y": 3.482878122855636,
          "z": 2.927735045609092
         },
         {
          "index": 48,
          "x": 8.104774336021741,
          "y": 4.190030140622708,
          "z": 3.614185846205572
         },
         {
          "index": 49,
          "x": 9.715417613466196,
          "y": 4.623986629439741,
          "z": 4.015269442644731
         },
         {
          "index": 50,
          "x": 9.370471485459165,
          "y": 5.504467326189326,
          "z": 3.041052583158115
         },
         {
          "index": 51,
          "x": 9.065885308371291,
          "y": 5.4206861985537556,
          "z": 1.394615266131908
         },
         {
          "index": 52,
          "x": 9.218321631226758,
          "y": 3.739325038071642,
          "z": 2.40901501723681
         },
         {
          "index": 53,
          "x": 10.198316200824136,
          "y": 4.573143244874159,
          "z": 0.8947416224225218
         },
         {
          "index": 54,
          "x": 9.35226463525669,
          "y": 4.335863561983189,
          "z": -0.13679849716142778
         },
         {
          "index": 55,
          "x": 8.762788860077656,
          "y": 5.119003366159331,
          "z": -0.4334589388760052
         },
         {
          "index": 56,
          "x": 9.117564250500054,
          "y": 5.418976864353279,
          "z": -0.18891403242086383
         },
         {
          "index": 57,
          "x": 9.602651859227619,
          "y": 5.086966380253811,
          "z": -0.6121778154020331
         },
         {
          "index": 58,
          "x": 10.879607109217254,
          "y": 4.311484927031843,
          "z": -1.425664934927123
         },
         {
          "index": 59,
          "x": 10.537410942379033,
          "y": 4.387162376655904,
          "z": -0.5399290309997808
         },
         {
          "index": 60,
          "x": 11.225578975297841,
          "y": 3.5183673813659633,
          "z": 0.832419083266073
         },
         {
          "index": 61,
          "x": 10.359691864727573,
          "y": 2.7040074025101597,
          "z": 0.44964576655079536
         },
         {
          "index": 62,
          "x": 12.26761043202559,
          "y": 1.0648754608317819,
          "z": -1.5795325927036103
         },
         {
          "index": 63,
          "x": 11.022252084971917,
          "y": 2.865679137865471,
          "z": -2.1572375190414115
         },
         {
          "index": 64,
          "x": 11.452264641911409,
          "y": 3.3518049587910395,
          "z": -2.096341110341587
         },
         {
          "index": 65,
          "x": 12.158060551893351,
          "y": 2.321521136777985,
          "z": -2.0022892663135545
         },
         {
          "index": 66,
          "x": 13.177127890975944,
          "y": 3.6645282775200165,
          "z": -2.4389101160888402
         },
         {
          "index": 67,
          "x": 15.522945188865691,
          "y": 2.361464107419462,
          "z": -3.568480388365322
         },
         {
          "index": 68,
          "x": 15.81688552955633,
          "y": 2.5220984282537025,
          "z": -3.7165067259278377
         },
         {
          "index": 69,
          "x": 16.129729433656294,
          "y": 2.4937185572111527,
          "z": -4.2466357168853275
         },
         {
          "index": 70,
          "x": 17.06784855711916,
          "y": 3.93583270540669,
          "z": -2.493002296789477
         },
         {
          "index": 71,
          "x": 16.70326660367303,
          "y": 5.5249944902113155,
          "z": -2.121319801745191
         },
         {
          "index": 72,
          "x": 16.950199127276772,
          "y": 7.159967308032584,
          "z": -2.7152283810749513
         },
         {
          "index": 73,
          "x": 15.248282457364098,
          "y": 8.210170853853088,
          "z": -1.9355365448498585
         },
         {
          "index": 74,
          "x": 16.054992388109284,
          "y": 8.250469654794461,
          "z": -3.107166689002126
         },
         {
          "index": 75,
          "x": 14.164541809906131,
          "y": 8.916046264798378,
          "z": -2.7773149839259865
         },
         {
          "index": 76,
          "x": 12.298760173518286,
          "y": 7.155427687411402,
          "z": -1.605128707862652
         },
         {
          "index": 77,
          "x": 11.8800503728053,
          "y": 7.481289338966637,
          "z": -2.065024272465417
         },
         {
          "index": 78,
          "x": 11.643534036485335,
          "y": 6.424359008166599,
          "z": -3.0244706955932585
         },
         {
          "index": 79,
          "x": 11.869846216582067,
          "y": 6.834063197344662,
          "z": -2.5672367692080074
         },
         {
          "index": 80,
          "x": 12.120206533204701,
          "y": 7.066807418005693,
          "z": -3.424208815445228
         },
         {
          "index": 81,
          "x": 10.594880908570588,
          "y": 7.4382606295506015,
          "z": -3.239480823160873
         },
         {
          "index": 82,
          "x": 10.458719301874376,
          "y": 5.9438633998527735,
          "z": -3.4561830287704414
         },
         {
          "index": 83,
          "x": 11.455597611962888,
          "y": 6.077430806863743,
          "z": -1.8707027699876657
         },
         {
          "index": 84,
          "x": 12.754059866940093,
          "y": 7.177908821156228,
          "z": -1.209913816481841
         },
         {
          "index": 85,
          "x": 14.708054346196757,
          "y": 6.939716516222237,
          "z": -1.6791085690526817
         },
         {
          "index": 86,
          "x": 15.281672532246994,
          "y": 7.147083287222761,
          "z": -2.2179803046948017
         },
         {
          "index": 87,
          "x": 15.52144984592544,
          "y": 5.812799723614566,
          "z": -2.8043770783954693
         },
         {
          "index": 88,
          "x": 15.117744315987167,
          "y": 5.444030417678696,
          "z": -2.280572102090161
         },
         {
          "index": 89,
          "x": 13.927728756982127,
          "y": 3.220712999501728,
          "z": -3.5345034995471702
         },
         {
          "index": 90,
          "x": 15.193044682415191,
          "y": 2.4866111100918293,
          "z": -3.937726991578081
         },
         {
          "index": 91,
          "x": 15.071570219335568,
          "y": 2.9177719361150682,
          "z": -1.6453903467106312
         },
         {
          "index": 92,
          "x": 14.202344173379267,
          "y": 2.364584729551816,
          "z": -2.172403692590777
         },
         {
          "index": 93,
          "x": 15.887154022596365,
          "y": 1.0427051146283275,
          "z": -3.492515229576884
         },
         {
          "index": 94,
          "x": 16.68478992256872,
          "y": -0.6943145021549451,
          "z": -3.228226032811297
         },
         {
          "index": 95,
          "x": 18.131774750904352,
          "y": -1.6764272841025862,
          "z": -1.1351491559933211
         },
         {
          "index": 96,
          "x": 17.814194344521113,
          "y": -2.8151228157108497,
          "z": 0.2388957166555099
         },
         {
          "index": 97,
          "x": 17.305576906316734,
          "y": -2.7856877507761673,
          "z": -0.09130337260940496
         },
         {
          "index": 98,
          "x": 16.804003476374817,
          "y": -3.385818957044541,
          "z": -0.7751946313592928
         },
         {
          "index": 99,
          "x": 16.013016105881928,
          "y": -3.569795812183962,
          "z": 0.018632786890970587
         }
        ]
       },
       "encoding": {
        "color": {
         "field": "column",
         "title": null,
         "type": "nominal"
        },
        "tooltip": [
         {
          "field": "index",
          "type": "quantitative"
         },
         {
          "field": "x",
          "type": "quantitative"
         },
         {
          "field": "y",
          "type": "quantitative"
         },
         {
          "field": "z",
          "type": "quantitative"
         }
        ],
        "x": {
         "field": "index",
         "type": "quantitative"
        },
        "y": {
         "field": "value",
         "title": null,
         "type": "quantitative"
        }
       },
       "mark": "line",
       "selection": {
        "selector004": {
         "bind": "scales",
         "encodings": [
          "x",
          "y"
         ],
         "type": "interval"
        }
       },
       "transform": [
        {
         "as": [
          "column",
          "value"
         ],
         "fold": [
          "x",
          "y",
          "z"
         ]
        }
       ]
      },
      "image/png": "[encoded data removed]",
      "text/plain": [
       "<VegaLite 3 object>\n",
       "\n",
       "If you see this message, it means the renderer has not been properly enabled\n",
       "for the frontend that you are using. For more information, see\n",
       "https://altair-viz.github.io/user_guide/troubleshooting.html\n"
      ]
     },
     "execution_count": 6,
     "metadata": {},
     "output_type": "execute_result"
    }
   ],
   "source": [
    "df.plot(kind='line')"
   ]
  },
  {
   "cell_type": "code",
   "execution_count": 7,
   "metadata": {},
   "outputs": [
    {
     "data": {
      "application/vnd.vegalite.v3+json": {
       "$schema": "https://vega.github.io/schema/vega-lite/v3.4.0.json",
       "config": {
        "mark": {
         "tooltip": null
        },
        "view": {
         "height": 300,
         "width": 400
        }
       },
       "data": {
        "name": "data-13099b60e16e19b1dfc8ec8ad5449064"
       },
       "datasets": {
        "data-13099b60e16e19b1dfc8ec8ad5449064": [
         {
          "index": 0,
          "x": 0.10174192426040822,
          "y": 0.31973437326889537,
          "z": -0.24087925640418273
         },
         {
          "index": 1,
          "x": 0.46377109678002576,
          "y": 0.39284953965450403,
          "z": -0.8470307992657274
         },
         {
          "index": 2,
          "x": 0.5427920704495576,
          "y": 2.0215438525479135,
          "z": -0.5041337657185385
         },
         {
          "index": 3,
          "x": 0.691790393493323,
          "y": 1.4080784951558476,
          "z": -1.5530227427069885
         },
         {
          "index": 4,
          "x": 0.5438454859014044,
          "y": 2.282289197786082,
          "z": -2.47969679801141
         },
         {
          "index": 5,
          "x": 0.8412672776574759,
          "y": 0.9336365164416933,
          "z": 0.11586844310132616
         },
         {
          "index": 6,
          "x": 0.4440696728540403,
          "y": 0.5846040675015804,
          "z": 1.198605562039081
         },
         {
          "index": 7,
          "x": 0.37689265681375916,
          "y": 1.8445078498152159,
          "z": 2.1971366928099076
         },
         {
          "index": 8,
          "x": 1.7088994296520779,
          "y": -0.2965165131611587,
          "z": 2.4854050834183345
         },
         {
          "index": 9,
          "x": 0.7594255157953386,
          "y": -0.7840081732519648,
          "z": 2.530393125472639
         },
         {
          "index": 10,
          "x": -1.4872055561564141,
          "y": 0.3599911702784182,
          "z": 4.835100132883255
         },
         {
          "index": 11,
          "x": 0.2150577809319032,
          "y": 0.11582875972667908,
          "z": 5.208579582224949
         },
         {
          "index": 12,
          "x": 1.5744840005341858,
          "y": -0.372546574433127,
          "z": 5.51545982910521
         },
         {
          "index": 13,
          "x": 0.3679772618606698,
          "y": -2.878238152804081,
          "z": 4.186569493581132
         },
         {
          "index": 14,
          "x": -0.11537830312732728,
          "y": -1.9506804820892456,
          "z": 3.339122687346829
         },
         {
          "index": 15,
          "x": 0.268552495967064,
          "y": -2.3876264052815257,
          "z": 3.7811188858038514
         },
         {
          "index": 16,
          "x": 2.226832215019299,
          "y": -2.126093605804431,
          "z": 2.0328388792460435
         },
         {
          "index": 17,
          "x": 3.8506435691911456,
          "y": -1.3191840891125446,
          "z": 0.6586872458863735
         },
         {
          "index": 18,
          "x": 3.176396308806726,
          "y": 0.5053296955453654,
          "z": 0.584394876179876
         },
         {
          "index": 19,
          "x": 3.6109830595525274,
          "y": 0.24878768452561512,
          "z": 2.154914558728954
         },
         {
          "index": 20,
          "x": 4.268315558606928,
          "y": 0.28702041547905166,
          "z": 2.1925933269587845
         },
         {
          "index": 21,
          "x": 5.051792703926308,
          "y": 0.8084957713851727,
          "z": 2.726933416131036
         },
         {
          "index": 22,
          "x": 3.960653857760024,
          "y": -1.0602674336345799,
          "z": 1.6993094433335816
         },
         {
          "index": 23,
          "x": 4.0584745148057975,
          "y": -1.6941204224418502,
          "z": 1.6515505886605286
         },
         {
          "index": 24,
          "x": 3.786081117290783,
          "y": -0.46754429414988685,
          "z": 2.4685878205488523
         },
         {
          "index": 25,
          "x": 2.741724342276396,
          "y": 0.1523948677505672,
          "z": 4.58321713054731
         },
         {
          "index": 26,
          "x": 2.8013085128398605,
          "y": 0.7990974820535526,
          "z": 4.892019651329498
         },
         {
          "index": 27,
          "x": 0.2069234183914137,
          "y": 1.24699471682072,
          "z": 4.654423098801681
         },
         {
          "index": 28,
          "x": 2.1655806809093194,
          "y": 0.4687251097775069,
          "z": 5.912860340821911
         },
         {
          "index": 29,
          "x": 1.9829943803653802,
          "y": -0.05890571295352498,
          "z": 5.893990033926627
         },
         {
          "index": 30,
          "x": 4.248989972799317,
          "y": -0.254524993710882,
          "z": 4.507886736419069
         },
         {
          "index": 31,
          "x": 5.934371725729361,
          "y": -0.8869058278485157,
          "z": 4.571610341559309
         },
         {
          "index": 32,
          "x": 5.4140845862818425,
          "y": -0.5044805179694067,
          "z": 5.62977884584074
         },
         {
          "index": 33,
          "x": 5.4501816431594925,
          "y": 0.3429631069122123,
          "z": 6.02974958340587
         },
         {
          "index": 34,
          "x": 5.399664441419694,
          "y": 1.703967924986447,
          "z": 5.61243990526056
         },
         {
          "index": 35,
          "x": 5.172968470830933,
          "y": 2.397689255319875,
          "z": 3.692298753317647
         },
         {
          "index": 36,
          "x": 5.750154694482398,
          "y": 3.1886569430215896,
          "z": 4.344349548933432
         },
         {
          "index": 37,
          "x": 5.092582320162698,
          "y": 3.1067826056283856,
          "z": 4.917785581801794
         },
         {
          "index": 38,
          "x": 5.254272059482469,
          "y": 4.141413004966657,
          "z": 5.620976316751887
         },
         {
          "index": 39,
          "x": 6.357545531371504,
          "y": 4.097757647686296,
          "z": 6.18646564919352
         },
         {
          "index": 40,
          "x": 5.57987671819632,
          "y": 3.514169061914425,
          "z": 5.664795621912372
         },
         {
          "index": 41,
          "x": 6.868678223733693,
          "y": 4.438871989278683,
          "z": 4.971151710223277
         },
         {
          "index": 42,
          "x": 5.978478595171977,
          "y": 4.256481510544367,
          "z": 4.290192930843104
         },
         {
          "index": 43,
          "x": 7.27385413218568,
          "y": 4.4418126528036,
          "z": 4.195896001192871
         },
         {
          "index": 44,
          "x": 7.60085135587176,
          "y": 4.162472682994865,
          "z": 2.032617349280593
         },
         {
          "index": 45,
          "x": 7.948721752538825,
          "y": 2.81277416046235,
          "z": 2.694012623718799
         },
         {
          "index": 46,
          "x": 8.364290165030434,
          "y": 4.0841944872584115,
          "z": 2.759878490550716
         },
         {
          "index": 47,
          "x": 9.359794630240813,
          "y": 3.482878122855636,
          "z": 2.927735045609092
         },
         {
          "index": 48,
          "x": 8.104774336021741,
          "y": 4.190030140622708,
          "z": 3.614185846205572
         },
         {
          "index": 49,
          "x": 9.715417613466196,
          "y": 4.623986629439741,
          "z": 4.015269442644731
         },
         {
          "index": 50,
          "x": 9.370471485459165,
          "y": 5.504467326189326,
          "z": 3.041052583158115
         },
         {
          "index": 51,
          "x": 9.065885308371291,
          "y": 5.4206861985537556,
          "z": 1.394615266131908
         },
         {
          "index": 52,
          "x": 9.218321631226758,
          "y": 3.739325038071642,
          "z": 2.40901501723681
         },
         {
          "index": 53,
          "x": 10.198316200824136,
          "y": 4.573143244874159,
          "z": 0.8947416224225218
         },
         {
          "index": 54,
          "x": 9.35226463525669,
          "y": 4.335863561983189,
          "z": -0.13679849716142778
         },
         {
          "index": 55,
          "x": 8.762788860077656,
          "y": 5.119003366159331,
          "z": -0.4334589388760052
         },
         {
          "index": 56,
          "x": 9.117564250500054,
          "y": 5.418976864353279,
          "z": -0.18891403242086383
         },
         {
          "index": 57,
          "x": 9.602651859227619,
          "y": 5.086966380253811,
          "z": -0.6121778154020331
         },
         {
          "index": 58,
          "x": 10.879607109217254,
          "y": 4.311484927031843,
          "z": -1.425664934927123
         },
         {
          "index": 59,
          "x": 10.537410942379033,
          "y": 4.387162376655904,
          "z": -0.5399290309997808
         },
         {
          "index": 60,
          "x": 11.225578975297841,
          "y": 3.5183673813659633,
          "z": 0.832419083266073
         },
         {
          "index": 61,
          "x": 10.359691864727573,
          "y": 2.7040074025101597,
          "z": 0.44964576655079536
         },
         {
          "index": 62,
          "x": 12.26761043202559,
          "y": 1.0648754608317819,
          "z": -1.5795325927036103
         },
         {
          "index": 63,
          "x": 11.022252084971917,
          "y": 2.865679137865471,
          "z": -2.1572375190414115
         },
         {
          "index": 64,
          "x": 11.452264641911409,
          "y": 3.3518049587910395,
          "z": -2.096341110341587
         },
         {
          "index": 65,
          "x": 12.158060551893351,
          "y": 2.321521136777985,
          "z": -2.0022892663135545
         },
         {
          "index": 66,
          "x": 13.177127890975944,
          "y": 3.6645282775200165,
          "z": -2.4389101160888402
         },
         {
          "index": 67,
          "x": 15.522945188865691,
          "y": 2.361464107419462,
          "z": -3.568480388365322
         },
         {
          "index": 68,
          "x": 15.81688552955633,
          "y": 2.5220984282537025,
          "z": -3.7165067259278377
         },
         {
          "index": 69,
          "x": 16.129729433656294,
          "y": 2.4937185572111527,
          "z": -4.2466357168853275
         },
         {
          "index": 70,
          "x": 17.06784855711916,
          "y": 3.93583270540669,
          "z": -2.493002296789477
         },
         {
          "index": 71,
          "x": 16.70326660367303,
          "y": 5.5249944902113155,
          "z": -2.121319801745191
         },
         {
          "index": 72,
          "x": 16.950199127276772,
          "y": 7.159967308032584,
          "z": -2.7152283810749513
         },
         {
          "index": 73,
          "x": 15.248282457364098,
          "y": 8.210170853853088,
          "z": -1.9355365448498585
         },
         {
          "index": 74,
          "x": 16.054992388109284,
          "y": 8.250469654794461,
          "z": -3.107166689002126
         },
         {
          "index": 75,
          "x": 14.164541809906131,
          "y": 8.916046264798378,
          "z": -2.7773149839259865
         },
         {
          "index": 76,
          "x": 12.298760173518286,
          "y": 7.155427687411402,
          "z": -1.605128707862652
         },
         {
          "index": 77,
          "x": 11.8800503728053,
          "y": 7.481289338966637,
          "z": -2.065024272465417
         },
         {
          "index": 78,
          "x": 11.643534036485335,
          "y": 6.424359008166599,
          "z": -3.0244706955932585
         },
         {
          "index": 79,
          "x": 11.869846216582067,
          "y": 6.834063197344662,
          "z": -2.5672367692080074
         },
         {
          "index": 80,
          "x": 12.120206533204701,
          "y": 7.066807418005693,
          "z": -3.424208815445228
         },
         {
          "index": 81,
          "x": 10.594880908570588,
          "y": 7.4382606295506015,
          "z": -3.239480823160873
         },
         {
          "index": 82,
          "x": 10.458719301874376,
          "y": 5.9438633998527735,
          "z": -3.4561830287704414
         },
         {
          "index": 83,
          "x": 11.455597611962888,
          "y": 6.077430806863743,
          "z": -1.8707027699876657
         },
         {
          "index": 84,
          "x": 12.754059866940093,
          "y": 7.177908821156228,
          "z": -1.209913816481841
         },
         {
          "index": 85,
          "x": 14.708054346196757,
          "y": 6.939716516222237,
          "z": -1.6791085690526817
         },
         {
          "index": 86,
          "x": 15.281672532246994,
          "y": 7.147083287222761,
          "z": -2.2179803046948017
         },
         {
          "index": 87,
          "x": 15.52144984592544,
          "y": 5.812799723614566,
          "z": -2.8043770783954693
         },
         {
          "index": 88,
          "x": 15.117744315987167,
          "y": 5.444030417678696,
          "z": -2.280572102090161
         },
         {
          "index": 89,
          "x": 13.927728756982127,
          "y": 3.220712999501728,
          "z": -3.5345034995471702
         },
         {
          "index": 90,
          "x": 15.193044682415191,
          "y": 2.4866111100918293,
          "z": -3.937726991578081
         },
         {
          "index": 91,
          "x": 15.071570219335568,
          "y": 2.9177719361150682,
          "z": -1.6453903467106312
         },
         {
          "index": 92,
          "x": 14.202344173379267,
          "y": 2.364584729551816,
          "z": -2.172403692590777
         },
         {
          "index": 93,
          "x": 15.887154022596365,
          "y": 1.0427051146283275,
          "z": -3.492515229576884
         },
         {
          "index": 94,
          "x": 16.68478992256872,
          "y": -0.6943145021549451,
          "z": -3.228226032811297
         },
         {
          "index": 95,
          "x": 18.131774750904352,
          "y": -1.6764272841025862,
          "z": -1.1351491559933211
         },
         {
          "index": 96,
          "x": 17.814194344521113,
          "y": -2.8151228157108497,
          "z": 0.2388957166555099
         },
         {
          "index": 97,
          "x": 17.305576906316734,
          "y": -2.7856877507761673,
          "z": -0.09130337260940496
         },
         {
          "index": 98,
          "x": 16.804003476374817,
          "y": -3.385818957044541,
          "z": -0.7751946313592928
         },
         {
          "index": 99,
          "x": 16.013016105881928,
          "y": -3.569795812183962,
          "z": 0.018632786890970587
         }
        ]
       },
       "encoding": {
        "color": {
         "field": "column",
         "title": null,
         "type": "nominal"
        },
        "opacity": {
         "value": 0.4
        },
        "tooltip": [
         {
          "field": "index",
          "type": "quantitative"
         },
         {
          "field": "x",
          "type": "quantitative"
         },
         {
          "field": "y",
          "type": "quantitative"
         },
         {
          "field": "z",
          "type": "quantitative"
         }
        ],
        "x": {
         "field": "index",
         "type": "quantitative"
        },
        "y": {
         "field": "value",
         "title": null,
         "type": "quantitative"
        }
       },
       "mark": "area",
       "selection": {
        "selector005": {
         "bind": "scales",
         "encodings": [
          "x",
          "y"
         ],
         "type": "interval"
        }
       },
       "transform": [
        {
         "as": [
          "column",
          "value"
         ],
         "fold": [
          "x",
          "y",
          "z"
         ]
        }
       ]
      },
      "image/png": "[encoded data removed]",
      "text/plain": [
       "<VegaLite 3 object>\n",
       "\n",
       "If you see this message, it means the renderer has not been properly enabled\n",
       "for the frontend that you are using. For more information, see\n",
       "https://altair-viz.github.io/user_guide/troubleshooting.html\n"
      ]
     },
     "execution_count": 7,
     "metadata": {},
     "output_type": "execute_result"
    }
   ],
   "source": [
    "df.plot(kind='area', alpha=.4)"
   ]
  },
  {
   "cell_type": "code",
   "execution_count": 8,
   "metadata": {},
   "outputs": [
    {
     "data": {
      "application/vnd.vegalite.v3+json": {
       "$schema": "https://vega.github.io/schema/vega-lite/v3.4.0.json",
       "config": {
        "mark": {
         "tooltip": null
        },
        "view": {
         "height": 300,
         "width": 400
        }
       },
       "data": {
        "name": "data-13099b60e16e19b1dfc8ec8ad5449064"
       },
       "datasets": {
        "data-13099b60e16e19b1dfc8ec8ad5449064": [
         {
          "index": 0,
          "x": 0.10174192426040822,
          "y": 0.31973437326889537,
          "z": -0.24087925640418273
         },
         {
          "index": 1,
          "x": 0.46377109678002576,
          "y": 0.39284953965450403,
          "z": -0.8470307992657274
         },
         {
          "index": 2,
          "x": 0.5427920704495576,
          "y": 2.0215438525479135,
          "z": -0.5041337657185385
         },
         {
          "index": 3,
          "x": 0.691790393493323,
          "y": 1.4080784951558476,
          "z": -1.5530227427069885
         },
         {
          "index": 4,
          "x": 0.5438454859014044,
          "y": 2.282289197786082,
          "z": -2.47969679801141
         },
         {
          "index": 5,
          "x": 0.8412672776574759,
          "y": 0.9336365164416933,
          "z": 0.11586844310132616
         },
         {
          "index": 6,
          "x": 0.4440696728540403,
          "y": 0.5846040675015804,
          "z": 1.198605562039081
         },
         {
          "index": 7,
          "x": 0.37689265681375916,
          "y": 1.8445078498152159,
          "z": 2.1971366928099076
         },
         {
          "index": 8,
          "x": 1.7088994296520779,
          "y": -0.2965165131611587,
          "z": 2.4854050834183345
         },
         {
          "index": 9,
          "x": 0.7594255157953386,
          "y": -0.7840081732519648,
          "z": 2.530393125472639
         },
         {
          "index": 10,
          "x": -1.4872055561564141,
          "y": 0.3599911702784182,
          "z": 4.835100132883255
         },
         {
          "index": 11,
          "x": 0.2150577809319032,
          "y": 0.11582875972667908,
          "z": 5.208579582224949
         },
         {
          "index": 12,
          "x": 1.5744840005341858,
          "y": -0.372546574433127,
          "z": 5.51545982910521
         },
         {
          "index": 13,
          "x": 0.3679772618606698,
          "y": -2.878238152804081,
          "z": 4.186569493581132
         },
         {
          "index": 14,
          "x": -0.11537830312732728,
          "y": -1.9506804820892456,
          "z": 3.339122687346829
         },
         {
          "index": 15,
          "x": 0.268552495967064,
          "y": -2.3876264052815257,
          "z": 3.7811188858038514
         },
         {
          "index": 16,
          "x": 2.226832215019299,
          "y": -2.126093605804431,
          "z": 2.0328388792460435
         },
         {
          "index": 17,
          "x": 3.8506435691911456,
          "y": -1.3191840891125446,
          "z": 0.6586872458863735
         },
         {
          "index": 18,
          "x": 3.176396308806726,
          "y": 0.5053296955453654,
          "z": 0.584394876179876
         },
         {
          "index": 19,
          "x": 3.6109830595525274,
          "y": 0.24878768452561512,
          "z": 2.154914558728954
         },
         {
          "index": 20,
          "x": 4.268315558606928,
          "y": 0.28702041547905166,
          "z": 2.1925933269587845
         },
         {
          "index": 21,
          "x": 5.051792703926308,
          "y": 0.8084957713851727,
          "z": 2.726933416131036
         },
         {
          "index": 22,
          "x": 3.960653857760024,
          "y": -1.0602674336345799,
          "z": 1.6993094433335816
         },
         {
          "index": 23,
          "x": 4.0584745148057975,
          "y": -1.6941204224418502,
          "z": 1.6515505886605286
         },
         {
          "index": 24,
          "x": 3.786081117290783,
          "y": -0.46754429414988685,
          "z": 2.4685878205488523
         },
         {
          "index": 25,
          "x": 2.741724342276396,
          "y": 0.1523948677505672,
          "z": 4.58321713054731
         },
         {
          "index": 26,
          "x": 2.8013085128398605,
          "y": 0.7990974820535526,
          "z": 4.892019651329498
         },
         {
          "index": 27,
          "x": 0.2069234183914137,
          "y": 1.24699471682072,
          "z": 4.654423098801681
         },
         {
          "index": 28,
          "x": 2.1655806809093194,
          "y": 0.4687251097775069,
          "z": 5.912860340821911
         },
         {
          "index": 29,
          "x": 1.9829943803653802,
          "y": -0.05890571295352498,
          "z": 5.893990033926627
         },
         {
          "index": 30,
          "x": 4.248989972799317,
          "y": -0.254524993710882,
          "z": 4.507886736419069
         },
         {
          "index": 31,
          "x": 5.934371725729361,
          "y": -0.8869058278485157,
          "z": 4.571610341559309
         },
         {
          "index": 32,
          "x": 5.4140845862818425,
          "y": -0.5044805179694067,
          "z": 5.62977884584074
         },
         {
          "index": 33,
          "x": 5.4501816431594925,
          "y": 0.3429631069122123,
          "z": 6.02974958340587
         },
         {
          "index": 34,
          "x": 5.399664441419694,
          "y": 1.703967924986447,
          "z": 5.61243990526056
         },
         {
          "index": 35,
          "x": 5.172968470830933,
          "y": 2.397689255319875,
          "z": 3.692298753317647
         },
         {
          "index": 36,
          "x": 5.750154694482398,
          "y": 3.1886569430215896,
          "z": 4.344349548933432
         },
         {
          "index": 37,
          "x": 5.092582320162698,
          "y": 3.1067826056283856,
          "z": 4.917785581801794
         },
         {
          "index": 38,
          "x": 5.254272059482469,
          "y": 4.141413004966657,
          "z": 5.620976316751887
         },
         {
          "index": 39,
          "x": 6.357545531371504,
          "y": 4.097757647686296,
          "z": 6.18646564919352
         },
         {
          "index": 40,
          "x": 5.57987671819632,
          "y": 3.514169061914425,
          "z": 5.664795621912372
         },
         {
          "index": 41,
          "x": 6.868678223733693,
          "y": 4.438871989278683,
          "z": 4.971151710223277
         },
         {
          "index": 42,
          "x": 5.978478595171977,
          "y": 4.256481510544367,
          "z": 4.290192930843104
         },
         {
          "index": 43,
          "x": 7.27385413218568,
          "y": 4.4418126528036,
          "z": 4.195896001192871
         },
         {
          "index": 44,
          "x": 7.60085135587176,
          "y": 4.162472682994865,
          "z": 2.032617349280593
         },
         {
          "index": 45,
          "x": 7.948721752538825,
          "y": 2.81277416046235,
          "z": 2.694012623718799
         },
         {
          "index": 46,
          "x": 8.364290165030434,
          "y": 4.0841944872584115,
          "z": 2.759878490550716
         },
         {
          "index": 47,
          "x": 9.359794630240813,
          "y": 3.482878122855636,
          "z": 2.927735045609092
         },
         {
          "index": 48,
          "x": 8.104774336021741,
          "y": 4.190030140622708,
          "z": 3.614185846205572
         },
         {
          "index": 49,
          "x": 9.715417613466196,
          "y": 4.623986629439741,
          "z": 4.015269442644731
         },
         {
          "index": 50,
          "x": 9.370471485459165,
          "y": 5.504467326189326,
          "z": 3.041052583158115
         },
         {
          "index": 51,
          "x": 9.065885308371291,
          "y": 5.4206861985537556,
          "z": 1.394615266131908
         },
         {
          "index": 52,
          "x": 9.218321631226758,
          "y": 3.739325038071642,
          "z": 2.40901501723681
         },
         {
          "index": 53,
          "x": 10.198316200824136,
          "y": 4.573143244874159,
          "z": 0.8947416224225218
         },
         {
          "index": 54,
          "x": 9.35226463525669,
          "y": 4.335863561983189,
          "z": -0.13679849716142778
         },
         {
          "index": 55,
          "x": 8.762788860077656,
          "y": 5.119003366159331,
          "z": -0.4334589388760052
         },
         {
          "index": 56,
          "x": 9.117564250500054,
          "y": 5.418976864353279,
          "z": -0.18891403242086383
         },
         {
          "index": 57,
          "x": 9.602651859227619,
          "y": 5.086966380253811,
          "z": -0.6121778154020331
         },
         {
          "index": 58,
          "x": 10.879607109217254,
          "y": 4.311484927031843,
          "z": -1.425664934927123
         },
         {
          "index": 59,
          "x": 10.537410942379033,
          "y": 4.387162376655904,
          "z": -0.5399290309997808
         },
         {
          "index": 60,
          "x": 11.225578975297841,
          "y": 3.5183673813659633,
          "z": 0.832419083266073
         },
         {
          "index": 61,
          "x": 10.359691864727573,
          "y": 2.7040074025101597,
          "z": 0.44964576655079536
         },
         {
          "index": 62,
          "x": 12.26761043202559,
          "y": 1.0648754608317819,
          "z": -1.5795325927036103
         },
         {
          "index": 63,
          "x": 11.022252084971917,
          "y": 2.865679137865471,
          "z": -2.1572375190414115
         },
         {
          "index": 64,
          "x": 11.452264641911409,
          "y": 3.3518049587910395,
          "z": -2.096341110341587
         },
         {
          "index": 65,
          "x": 12.158060551893351,
          "y": 2.321521136777985,
          "z": -2.0022892663135545
         },
         {
          "index": 66,
          "x": 13.177127890975944,
          "y": 3.6645282775200165,
          "z": -2.4389101160888402
         },
         {
          "index": 67,
          "x": 15.522945188865691,
          "y": 2.361464107419462,
          "z": -3.568480388365322
         },
         {
          "index": 68,
          "x": 15.81688552955633,
          "y": 2.5220984282537025,
          "z": -3.7165067259278377
         },
         {
          "index": 69,
          "x": 16.129729433656294,
          "y": 2.4937185572111527,
          "z": -4.2466357168853275
         },
         {
          "index": 70,
          "x": 17.06784855711916,
          "y": 3.93583270540669,
          "z": -2.493002296789477
         },
         {
          "index": 71,
          "x": 16.70326660367303,
          "y": 5.5249944902113155,
          "z": -2.121319801745191
         },
         {
          "index": 72,
          "x": 16.950199127276772,
          "y": 7.159967308032584,
          "z": -2.7152283810749513
         },
         {
          "index": 73,
          "x": 15.248282457364098,
          "y": 8.210170853853088,
          "z": -1.9355365448498585
         },
         {
          "index": 74,
          "x": 16.054992388109284,
          "y": 8.250469654794461,
          "z": -3.107166689002126
         },
         {
          "index": 75,
          "x": 14.164541809906131,
          "y": 8.916046264798378,
          "z": -2.7773149839259865
         },
         {
          "index": 76,
          "x": 12.298760173518286,
          "y": 7.155427687411402,
          "z": -1.605128707862652
         },
         {
          "index": 77,
          "x": 11.8800503728053,
          "y": 7.481289338966637,
          "z": -2.065024272465417
         },
         {
          "index": 78,
          "x": 11.643534036485335,
          "y": 6.424359008166599,
          "z": -3.0244706955932585
         },
         {
          "index": 79,
          "x": 11.869846216582067,
          "y": 6.834063197344662,
          "z": -2.5672367692080074
         },
         {
          "index": 80,
          "x": 12.120206533204701,
          "y": 7.066807418005693,
          "z": -3.424208815445228
         },
         {
          "index": 81,
          "x": 10.594880908570588,
          "y": 7.4382606295506015,
          "z": -3.239480823160873
         },
         {
          "index": 82,
          "x": 10.458719301874376,
          "y": 5.9438633998527735,
          "z": -3.4561830287704414
         },
         {
          "index": 83,
          "x": 11.455597611962888,
          "y": 6.077430806863743,
          "z": -1.8707027699876657
         },
         {
          "index": 84,
          "x": 12.754059866940093,
          "y": 7.177908821156228,
          "z": -1.209913816481841
         },
         {
          "index": 85,
          "x": 14.708054346196757,
          "y": 6.939716516222237,
          "z": -1.6791085690526817
         },
         {
          "index": 86,
          "x": 15.281672532246994,
          "y": 7.147083287222761,
          "z": -2.2179803046948017
         },
         {
          "index": 87,
          "x": 15.52144984592544,
          "y": 5.812799723614566,
          "z": -2.8043770783954693
         },
         {
          "index": 88,
          "x": 15.117744315987167,
          "y": 5.444030417678696,
          "z": -2.280572102090161
         },
         {
          "index": 89,
          "x": 13.927728756982127,
          "y": 3.220712999501728,
          "z": -3.5345034995471702
         },
         {
          "index": 90,
          "x": 15.193044682415191,
          "y": 2.4866111100918293,
          "z": -3.937726991578081
         },
         {
          "index": 91,
          "x": 15.071570219335568,
          "y": 2.9177719361150682,
          "z": -1.6453903467106312
         },
         {
          "index": 92,
          "x": 14.202344173379267,
          "y": 2.364584729551816,
          "z": -2.172403692590777
         },
         {
          "index": 93,
          "x": 15.887154022596365,
          "y": 1.0427051146283275,
          "z": -3.492515229576884
         },
         {
          "index": 94,
          "x": 16.68478992256872,
          "y": -0.6943145021549451,
          "z": -3.228226032811297
         },
         {
          "index": 95,
          "x": 18.131774750904352,
          "y": -1.6764272841025862,
          "z": -1.1351491559933211
         },
         {
          "index": 96,
          "x": 17.814194344521113,
          "y": -2.8151228157108497,
          "z": 0.2388957166555099
         },
         {
          "index": 97,
          "x": 17.305576906316734,
          "y": -2.7856877507761673,
          "z": -0.09130337260940496
         },
         {
          "index": 98,
          "x": 16.804003476374817,
          "y": -3.385818957044541,
          "z": -0.7751946313592928
         },
         {
          "index": 99,
          "x": 16.013016105881928,
          "y": -3.569795812183962,
          "z": 0.018632786890970587
         }
        ]
       },
       "encoding": {
        "color": {
         "field": "column",
         "title": null,
         "type": "nominal"
        },
        "opacity": {
         "value": 0.5
        },
        "tooltip": [
         {
          "field": "index",
          "type": "quantitative"
         },
         {
          "field": "x",
          "type": "quantitative"
         },
         {
          "field": "y",
          "type": "quantitative"
         },
         {
          "field": "z",
          "type": "quantitative"
         }
        ],
        "x": {
         "field": "index",
         "type": "quantitative"
        },
        "y": {
         "field": "value",
         "title": null,
         "type": "quantitative"
        }
       },
       "mark": "bar",
       "selection": {
        "selector006": {
         "bind": "scales",
         "encodings": [
          "x",
          "y"
         ],
         "type": "interval"
        }
       },
       "transform": [
        {
         "as": [
          "column",
          "value"
         ],
         "fold": [
          "x",
          "y",
          "z"
         ]
        }
       ]
      },
      "image/png": "[encoded data removed]",
      "text/plain": [
       "<VegaLite 3 object>\n",
       "\n",
       "If you see this message, it means the renderer has not been properly enabled\n",
       "for the frontend that you are using. For more information, see\n",
       "https://altair-viz.github.io/user_guide/troubleshooting.html\n"
      ]
     },
     "execution_count": 8,
     "metadata": {},
     "output_type": "execute_result"
    }
   ],
   "source": [
    "df.plot(kind='bar', width=100)"
   ]
  },
  {
   "cell_type": "code",
   "execution_count": 9,
   "metadata": {},
   "outputs": [
    {
     "data": {
      "application/vnd.vegalite.v3+json": {
       "$schema": "https://vega.github.io/schema/vega-lite/v3.4.0.json",
       "config": {
        "mark": {
         "tooltip": null
        },
        "view": {
         "height": 300,
         "width": 400
        }
       },
       "data": {
        "name": "data-74a83de18a3c59bc7cc9d0ccacb63bfd"
       },
       "datasets": {
        "data-74a83de18a3c59bc7cc9d0ccacb63bfd": [
         {
          "index": 0,
          "x": 0.10174192426040822,
          "y": 0.31973437326889537,
          "z": -0.24087925640418273
         },
         {
          "index": 1,
          "x": 0.46377109678002576,
          "y": 0.39284953965450403,
          "z": -0.8470307992657274
         },
         {
          "index": 2,
          "x": 0.5427920704495576,
          "y": 2.0215438525479135,
          "z": -0.5041337657185385
         },
         {
          "index": 3,
          "x": 0.691790393493323,
          "y": 1.4080784951558476,
          "z": -1.5530227427069885
         },
         {
          "index": 4,
          "x": 0.5438454859014044,
          "y": 2.282289197786082,
          "z": -2.47969679801141
         },
         {
          "index": 5,
          "x": 0.8412672776574759,
          "y": 0.9336365164416933,
          "z": 0.11586844310132616
         },
         {
          "index": 6,
          "x": 0.4440696728540403,
          "y": 0.5846040675015804,
          "z": 1.198605562039081
         },
         {
          "index": 7,
          "x": 0.37689265681375916,
          "y": 1.8445078498152159,
          "z": 2.1971366928099076
         },
         {
          "index": 8,
          "x": 1.7088994296520779,
          "y": -0.2965165131611587,
          "z": 2.4854050834183345
         },
         {
          "index": 9,
          "x": 0.7594255157953386,
          "y": -0.7840081732519648,
          "z": 2.530393125472639
         }
        ]
       },
       "encoding": {
        "color": {
         "field": "column",
         "title": null,
         "type": "nominal"
        },
        "column": {
         "field": "index",
         "type": "quantitative"
        },
        "opacity": {
         "value": 1
        },
        "tooltip": [
         {
          "field": "index",
          "type": "quantitative"
         },
         {
          "field": "x",
          "type": "quantitative"
         },
         {
          "field": "y",
          "type": "quantitative"
         },
         {
          "field": "z",
          "type": "quantitative"
         }
        ],
        "x": {
         "field": "column",
         "title": null,
         "type": "nominal"
        },
        "y": {
         "field": "value",
         "title": null,
         "type": "quantitative"
        }
       },
       "mark": "bar",
       "selection": {
        "selector007": {
         "bind": "scales",
         "encodings": [
          "x",
          "y"
         ],
         "type": "interval"
        }
       },
       "transform": [
        {
         "as": [
          "column",
          "value"
         ],
         "fold": [
          "x",
          "y",
          "z"
         ]
        }
       ]
      },
      "image/png": "[encoded data removed]",
      "text/plain": [
       "<VegaLite 3 object>\n",
       "\n",
       "If you see this message, it means the renderer has not been properly enabled\n",
       "for the frontend that you are using. For more information, see\n",
       "https://altair-viz.github.io/user_guide/troubleshooting.html\n"
      ]
     },
     "execution_count": 9,
     "metadata": {},
     "output_type": "execute_result"
    }
   ],
   "source": [
    "df.head(10).plot(kind='bar', width=100)"
   ]
  },
  {
   "cell_type": "code",
   "execution_count": 9,
   "metadata": {},
   "outputs": [],
   "source": [
    "import altair as alt\n",
    "from vega_datasets import data\n",
    "\n",
    "source = data.barley()"
   ]
  },
  {
   "cell_type": "code",
   "execution_count": null,
   "metadata": {},
   "outputs": [],
   "source": []
  }
 ],
 "metadata": {
  "kernelspec": {
   "display_name": "Python 3",
   "language": "python",
   "name": "python3"
  },
  "language_info": {
   "codemirror_mode": {
    "name": "ipython",
    "version": 3
   },
   "file_extension": ".py",
   "mimetype": "text/x-python",
   "name": "python",
   "nbconvert_exporter": "python",
   "pygments_lexer": "ipython3",
   "version": "3.7.4"
  }
 },
 "nbformat": 4,
 "nbformat_minor": 4
}
